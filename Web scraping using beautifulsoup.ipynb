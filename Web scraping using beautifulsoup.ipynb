{
 "cells": [
  {
   "cell_type": "code",
   "execution_count": 1,
   "metadata": {},
   "outputs": [],
   "source": [
    "import requests\n",
    "from bs4 import BeautifulSoup"
   ]
  },
  {
   "cell_type": "code",
   "execution_count": 28,
   "metadata": {},
   "outputs": [],
   "source": [
    "html_string = \"\"\"\n",
    "            <!doctype html>\n",
    "<html lang = \"eng\">\n",
    "<head>\n",
    "\t<title>Doing data science with python</title>\n",
    "</head>\n",
    "<body>\n",
    "\t<h1 style = \"color:#F15B2A;\">Doing data science with python</h1>\n",
    "\t<p id = \"author\"> Author : Anish Dass</p>\n",
    "\t<p id = \"description\"> I am writing this because i didn't get any html document so as to scrape it. :( </p>\n",
    "\t\n",
    "\t<h3 style = \"color: #404040\">Modules</h3>\n",
    "\t<table id = \"module\" style = \"width:100%\">\n",
    "\t\t<tr>\n",
    "\t\t\t<th>Title</th>\n",
    "\t\t\t<th>Duration[in minutes]</th>\t\t\t\n",
    "\t\t</tr>\n",
    "\t\t<tr>\n",
    "\t\t\t<td>Getting started</td>\n",
    "\t\t\t<td>20</td>\t\t\t\n",
    "\t\t</tr>\n",
    "\t\t<tr>\n",
    "\t\t\t<td>Setting up the environment</td>\n",
    "\t\t\t<td>40</td>\t\t\t\n",
    "\t\t</tr>\n",
    "\t\t<tr>\n",
    "\t\t\t<td>Extracting the data</td>\n",
    "\t\t\t<td>35</td>\t\t\t\n",
    "\t\t</tr>\n",
    "\t\t<tr>\n",
    "\t\t\t<td>Exploring and processing data part 1</td>\n",
    "\t\t\t<td>45</td>\t\t\t\n",
    "\t\t</tr>\n",
    "\t\t<tr>\n",
    "\t\t\t<td>Exploring and processing data part 2</td>\n",
    "\t\t\t<td>45</td>\t\t\t\n",
    "\t\t</tr>\n",
    "\t\t<tr>\n",
    "\t\t\t<td>Building predictive models</td>\n",
    "\t\t\t<td>30</td>\t\t\t\n",
    "\t\t</tr>\n",
    "\t</table>\n",
    "</body>\n",
    "</html>\n",
    "\"\"\""
   ]
  },
  {
   "cell_type": "code",
   "execution_count": 29,
   "metadata": {},
   "outputs": [
    {
     "data": {
      "text/html": [
       "\n",
       "            <!doctype html>\n",
       "<html lang = \"eng\">\n",
       "<head>\n",
       "\t<title>Doing data science with python</title>\n",
       "</head>\n",
       "<body>\n",
       "\t<h1 style = \"color:#F15B2A;\">Doing data science with python</h1>\n",
       "\t<p id = \"author\"> Author : Anish Dass</p>\n",
       "\t<p id = \"description\"> I am writing this because i didn't get any html document so as to scrape it. :( </p>\n",
       "\t\n",
       "\t<h3 style = \"color: #404040\">Modules</h3>\n",
       "\t<table id = \"module\" style = \"width:100%\">\n",
       "\t\t<tr>\n",
       "\t\t\t<th>Title</th>\n",
       "\t\t\t<th>Duration[in minutes]</th>\t\t\t\n",
       "\t\t</tr>\n",
       "\t\t<tr>\n",
       "\t\t\t<td>Getting started</td>\n",
       "\t\t\t<td>20</td>\t\t\t\n",
       "\t\t</tr>\n",
       "\t\t<tr>\n",
       "\t\t\t<td>Setting up the environment</td>\n",
       "\t\t\t<td>40</td>\t\t\t\n",
       "\t\t</tr>\n",
       "\t\t<tr>\n",
       "\t\t\t<td>Extracting the data</td>\n",
       "\t\t\t<td>35</td>\t\t\t\n",
       "\t\t</tr>\n",
       "\t\t<tr>\n",
       "\t\t\t<td>Exploring and processing data part 1</td>\n",
       "\t\t\t<td>45</td>\t\t\t\n",
       "\t\t</tr>\n",
       "\t\t<tr>\n",
       "\t\t\t<td>Exploring and processing data part 2</td>\n",
       "\t\t\t<td>45</td>\t\t\t\n",
       "\t\t</tr>\n",
       "\t\t<tr>\n",
       "\t\t\t<td>Building predictive models</td>\n",
       "\t\t\t<td>30</td>\t\t\t\n",
       "\t\t</tr>\n",
       "\t</table>\n",
       "</body>\n",
       "</html>\n"
      ],
      "text/plain": [
       "<IPython.core.display.HTML object>"
      ]
     },
     "metadata": {},
     "output_type": "display_data"
    }
   ],
   "source": [
    "from IPython.core.display import display, HTML\n",
    "display(HTML(html_string))"
   ]
  },
  {
   "cell_type": "code",
   "execution_count": 31,
   "metadata": {},
   "outputs": [
    {
     "name": "stderr",
     "output_type": "stream",
     "text": [
      "C:\\ProgramData\\Anaconda3\\lib\\site-packages\\bs4\\__init__.py:181: UserWarning: No parser was explicitly specified, so I'm using the best available HTML parser for this system (\"lxml\"). This usually isn't a problem, but if you run this code on another system, or in a different virtual environment, it may use a different parser and behave differently.\n",
      "\n",
      "The code that caused this warning is on line 193 of the file C:\\ProgramData\\Anaconda3\\lib\\runpy.py. To get rid of this warning, change code that looks like this:\n",
      "\n",
      " BeautifulSoup(YOUR_MARKUP})\n",
      "\n",
      "to this:\n",
      "\n",
      " BeautifulSoup(YOUR_MARKUP, \"lxml\")\n",
      "\n",
      "  markup_type=markup_type))\n"
     ]
    }
   ],
   "source": [
    "ps = BeautifulSoup(html_string)"
   ]
  },
  {
   "cell_type": "code",
   "execution_count": 9,
   "metadata": {},
   "outputs": [
    {
     "data": {
      "text/plain": [
       "<!DOCTYPE html>\n",
       "<html lang=\"eng\">\n",
       "<head>\n",
       "<title>Doing data science with python</title>\n",
       "</head>\n",
       "<body>\n",
       "<h1 style=\"color:#F15B2A;\">Doing data science with python</h1>\n",
       "<p id=\"author\"> Author : Anish Dass</p>\n",
       "<p id=\"description\"> I am writing this because i didn't get any html document so as to scrape it. :( </p>\n",
       "<h3 style=\"color: #404040\">Modules</h3>\n",
       "<table id=\"module\" style=\"width:100%\">\n",
       "<tr>\n",
       "<th>Title</th>\n",
       "<th>Duration[in minutes]</th>\n",
       "</tr>\n",
       "<tr>\n",
       "<td>Getting started</td>\n",
       "<td>20</td>\n",
       "</tr>\n",
       "<tr>\n",
       "<td>Setting up the environment</td>\n",
       "<th>40</th>\n",
       "</tr>\n",
       "<tr>\n",
       "<td>Extracting the data</td>\n",
       "<th>35</th>\n",
       "</tr>\n",
       "<tr>\n",
       "<td>Exploring and processing data part 1</td>\n",
       "<th>45</th>\n",
       "</tr>\n",
       "<tr>\n",
       "<td>Exploring and processing data part 2</td>\n",
       "<th>45</th>\n",
       "</tr>\n",
       "<tr>\n",
       "<td>Building predictive models</td>\n",
       "<th>30</th>\n",
       "</tr>\n",
       "</table>\n",
       "</body>\n",
       "</html>"
      ]
     },
     "execution_count": 9,
     "metadata": {},
     "output_type": "execute_result"
    }
   ],
   "source": [
    "ps"
   ]
  },
  {
   "cell_type": "code",
   "execution_count": 12,
   "metadata": {},
   "outputs": [],
   "source": [
    "body = ps.find(name = 'body')"
   ]
  },
  {
   "cell_type": "code",
   "execution_count": 13,
   "metadata": {},
   "outputs": [
    {
     "data": {
      "text/plain": [
       "<body>\n",
       "<h1 style=\"color:#F15B2A;\">Doing data science with python</h1>\n",
       "<p id=\"author\"> Author : Anish Dass</p>\n",
       "<p id=\"description\"> I am writing this because i didn't get any html document so as to scrape it. :( </p>\n",
       "<h3 style=\"color: #404040\">Modules</h3>\n",
       "<table id=\"module\" style=\"width:100%\">\n",
       "<tr>\n",
       "<th>Title</th>\n",
       "<th>Duration[in minutes]</th>\n",
       "</tr>\n",
       "<tr>\n",
       "<td>Getting started</td>\n",
       "<td>20</td>\n",
       "</tr>\n",
       "<tr>\n",
       "<td>Setting up the environment</td>\n",
       "<th>40</th>\n",
       "</tr>\n",
       "<tr>\n",
       "<td>Extracting the data</td>\n",
       "<th>35</th>\n",
       "</tr>\n",
       "<tr>\n",
       "<td>Exploring and processing data part 1</td>\n",
       "<th>45</th>\n",
       "</tr>\n",
       "<tr>\n",
       "<td>Exploring and processing data part 2</td>\n",
       "<th>45</th>\n",
       "</tr>\n",
       "<tr>\n",
       "<td>Building predictive models</td>\n",
       "<th>30</th>\n",
       "</tr>\n",
       "</table>\n",
       "</body>"
      ]
     },
     "execution_count": 13,
     "metadata": {},
     "output_type": "execute_result"
    }
   ],
   "source": [
    "body"
   ]
  },
  {
   "cell_type": "code",
   "execution_count": 14,
   "metadata": {},
   "outputs": [
    {
     "name": "stdout",
     "output_type": "stream",
     "text": [
      "Doing data science with python\n"
     ]
    }
   ],
   "source": [
    "print(ps.find(name = 'h1').text)"
   ]
  },
  {
   "cell_type": "code",
   "execution_count": 15,
   "metadata": {},
   "outputs": [
    {
     "name": "stdout",
     "output_type": "stream",
     "text": [
      "<p id=\"author\"> Author : Anish Dass</p>\n"
     ]
    }
   ],
   "source": [
    "print(ps.find(name = 'p'))"
   ]
  },
  {
   "cell_type": "code",
   "execution_count": 16,
   "metadata": {},
   "outputs": [
    {
     "name": "stdout",
     "output_type": "stream",
     "text": [
      "[<p id=\"author\"> Author : Anish Dass</p>, <p id=\"description\"> I am writing this because i didn't get any html document so as to scrape it. :( </p>]\n"
     ]
    }
   ],
   "source": [
    "print(ps.findAll(name='p'))"
   ]
  },
  {
   "cell_type": "code",
   "execution_count": 34,
   "metadata": {},
   "outputs": [
    {
     "name": "stdout",
     "output_type": "stream",
     "text": [
      "Getting started 20\n",
      "Setting up the environment 40\n",
      "Extracting the data 35\n",
      "Exploring and processing data part 1 45\n",
      "Exploring and processing data part 2 45\n",
      "Building predictive models 30\n"
     ]
    }
   ],
   "source": [
    "body = ps.find(name='body')\n",
    "\n",
    "module_table = body.find(name = 'table', attrs={'id':'module'})\n",
    "\n",
    "for row in module_table.findAll(name='tr')[1:]:\n",
    "    \n",
    "    #print(row)\n",
    "    \n",
    "    title = row.findAll(name = 'td')[0].text\n",
    "    \n",
    "    #print(title)\n",
    "    \n",
    "    duration = int(row.findAll(name = 'td')[1].text)\n",
    "    \n",
    "    #print(duration)\n",
    "    \n",
    "    print (title, duration)"
   ]
  },
  {
   "cell_type": "code",
   "execution_count": null,
   "metadata": {},
   "outputs": [],
   "source": []
  }
 ],
 "metadata": {
  "kernelspec": {
   "display_name": "Python 3",
   "language": "python",
   "name": "python3"
  },
  "language_info": {
   "codemirror_mode": {
    "name": "ipython",
    "version": 3
   },
   "file_extension": ".py",
   "mimetype": "text/x-python",
   "name": "python",
   "nbconvert_exporter": "python",
   "pygments_lexer": "ipython3",
   "version": "3.6.5"
  }
 },
 "nbformat": 4,
 "nbformat_minor": 2
}
